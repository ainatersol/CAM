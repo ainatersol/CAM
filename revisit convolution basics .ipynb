{
 "cells": [
  {
   "cell_type": "code",
   "execution_count": 79,
   "id": "e08ddd4b",
   "metadata": {},
   "outputs": [],
   "source": [
    "import numpy as np \n",
    "import sympy as sp"
   ]
  },
  {
   "cell_type": "code",
   "execution_count": 4,
   "id": "fc1739c6",
   "metadata": {},
   "outputs": [],
   "source": [
    "# manual convolution implementation for a 1D array "
   ]
  },
  {
   "cell_type": "code",
   "execution_count": 86,
   "id": "67972eaa",
   "metadata": {},
   "outputs": [],
   "source": [
    "a = np.array([1, 2, 1])\n",
    "b = np.array([1, 3, 4, 6, 1, 1, 3]) # the input needs to be flipped!\n",
    "\n",
    "# without padding \n",
    "def convolution(a, b):\n",
    "    dot_product = []\n",
    "    b = np.flip(b)\n",
    "    for i in range(1, len(b)-1):\n",
    "        dot_product.append(sum(a * b[i-1:i+2]))\n",
    "    return np.array(dot_product)\n",
    "    \n",
    "# circular padding\n",
    "def circular_convolution(a, b):\n",
    "    out = []\n",
    "    b = np.flip(b)\n",
    "    for i in range(len(b)):\n",
    "        if i >= len(b)-1:\n",
    "            i -= len(b)\n",
    "        d = 0\n",
    "        for j in range(len(a)):\n",
    "            d += a[j] * b[i-1+j]\n",
    "        out.append(d)\n",
    "    return np.array(out)"
   ]
  },
  {
   "cell_type": "code",
   "execution_count": 72,
   "id": "50071b3b",
   "metadata": {},
   "outputs": [
    {
     "data": {
      "text/plain": [
       "array([ 8,  6,  9, 17, 17, 11,  8])"
      ]
     },
     "execution_count": 72,
     "metadata": {},
     "output_type": "execute_result"
    }
   ],
   "source": [
    "convolution(a, b)\n",
    "circular_convolution(a, b)"
   ]
  },
  {
   "cell_type": "code",
   "execution_count": 59,
   "id": "5de46ea3",
   "metadata": {},
   "outputs": [
    {
     "data": {
      "text/plain": [
       "array([ 1,  5, 11, 17, 17,  9,  6,  7,  3])"
      ]
     },
     "execution_count": 59,
     "metadata": {},
     "output_type": "execute_result"
    }
   ],
   "source": [
    "np.convolve(a, b, mode='valid')\n",
    "np.convolve(a, b, mode='full') # pads with 0 "
   ]
  },
  {
   "cell_type": "code",
   "execution_count": 60,
   "id": "2289a706",
   "metadata": {},
   "outputs": [],
   "source": [
    "### numpy does not natively flip the input. "
   ]
  },
  {
   "cell_type": "code",
   "execution_count": null,
   "id": "a5c8ec70",
   "metadata": {},
   "outputs": [],
   "source": [
    "# Properties of convolution "
   ]
  },
  {
   "cell_type": "code",
   "execution_count": 91,
   "id": "aa99f541",
   "metadata": {},
   "outputs": [
    {
     "data": {
      "text/plain": [
       "array([ True,  True,  True])"
      ]
     },
     "execution_count": 91,
     "metadata": {},
     "output_type": "execute_result"
    }
   ],
   "source": [
    "### commutative f*g = g*f\n",
    "np.convolve(a, b, mode='valid') == np.convolve(b, a, mode='valid')\n",
    "\n",
    "### integrals of convolution: The integral of a convolution is the multiplication of integrals\n",
    "discrete_integral = sum(a) + sum(b)\n",
    "discrete_integral == sum(np.concatenate((a, b)))\n",
    "\n",
    "### impulse response\n",
    "b_1 = np.array(1)\n",
    "np.convolve(b_1, a, mode='valid') == a"
   ]
  },
  {
   "cell_type": "code",
   "execution_count": null,
   "id": "252cb858",
   "metadata": {},
   "outputs": [],
   "source": [
    "# \"Convolution in the time domain is multiplication in the frequency (Fourier) domain.\""
   ]
  }
 ],
 "metadata": {
  "kernelspec": {
   "display_name": "Python 3 (ipykernel)",
   "language": "python",
   "name": "python3"
  },
  "language_info": {
   "codemirror_mode": {
    "name": "ipython",
    "version": 3
   },
   "file_extension": ".py",
   "mimetype": "text/x-python",
   "name": "python",
   "nbconvert_exporter": "python",
   "pygments_lexer": "ipython3",
   "version": "3.9.7"
  }
 },
 "nbformat": 4,
 "nbformat_minor": 5
}
